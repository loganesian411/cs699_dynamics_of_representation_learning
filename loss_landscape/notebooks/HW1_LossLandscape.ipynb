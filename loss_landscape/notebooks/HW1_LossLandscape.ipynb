{
  "cells": [
    {
      "cell_type": "code",
      "execution_count": null,
      "metadata": {
        "id": "ucFUH-YCGNa5"
      },
      "outputs": [],
      "source": [
        "# Some more magic so that the notebook will reload external python modules;\n",
        "# see http://stackoverflow.com/questions/1907993/autoreload-of-modules-in-ipython\n",
        "%load_ext autoreload\n",
        "%autoreload 2"
      ]
    },
    {
      "cell_type": "code",
      "execution_count": null,
      "metadata": {
        "colab": {
          "base_uri": "https://localhost:8080/"
        },
        "id": "jwgRk5owGSDj",
        "outputId": "224f9ae3-017b-427d-a703-52387334264e"
      },
      "outputs": [
        {
          "output_type": "stream",
          "name": "stdout",
          "text": [
            "Mounted at /content/drive\n",
            "/content/drive/My Drive/Colab Notebooks/CS699/loss_landscape\n"
          ]
        }
      ],
      "source": [
        "# This mounts your Google Drive to the Colab VM.\n",
        "from google.colab import drive\n",
        "drive.mount('/content/drive', force_remount=True)\n",
        "\n",
        "# Enter the foldername in your Drive where you have saved the unzipped\n",
        "# assignment folder, e.g. 'cs231n/assignments/assignment1/'\n",
        "FOLDERNAME = 'Colab Notebooks/CS699/loss_landscape/' # assignment1/'\n",
        "assert FOLDERNAME is not None, \"[!] Enter the foldername.\"\n",
        "\n",
        "# Now that we've mounted your Drive, this ensures that\n",
        "# the Python interpreter of the Colab VM can load\n",
        "# python files from within it.\n",
        "import sys\n",
        "sys.path.append('/content/drive/My Drive/{}'.format(FOLDERNAME))\n",
        "\n",
        "%cd /content/drive/My\\ Drive/$FOLDERNAME"
      ]
    },
    {
      "cell_type": "code",
      "execution_count": null,
      "metadata": {
        "colab": {
          "base_uri": "https://localhost:8080/"
        },
        "id": "YUuMpTSoyMwI",
        "outputId": "72dab677-58b1-4fd0-bf88-9882a6d7081f"
      },
      "outputs": [
        {
          "output_type": "stream",
          "name": "stdout",
          "text": [
            "/bin/bash: nvidia-smi: command not found\n"
          ]
        }
      ],
      "source": [
        "!nvidia-smi # check to see if CUDA available"
      ]
    },
    {
      "cell_type": "code",
      "execution_count": null,
      "metadata": {
        "id": "JK2qEmTlGgxs"
      },
      "outputs": [],
      "source": [
        "# A bit of setup\n",
        "from __future__ import print_function\n",
        "import time\n",
        "import numpy as np\n",
        "import matplotlib.pyplot as plt\n",
        "import os\n",
        "import torch\n",
        "from utils import resnet\n",
        "import train\n",
        "\n",
        "%matplotlib inline\n",
        "plt.rcParams['figure.figsize'] = (10.0, 8.0) # set default size of plots\n",
        "plt.rcParams['image.interpolation'] = 'nearest'\n",
        "plt.rcParams['image.cmap'] = 'gray'\n",
        "\n",
        "def rel_error(x, y):\n",
        "  \"\"\" returns relative error \"\"\"\n",
        "  return np.max(np.abs(x - y) / (np.maximum(1e-8, np.abs(x) + np.abs(y))))"
      ]
    },
    {
      "cell_type": "code",
      "execution_count": null,
      "metadata": {
        "colab": {
          "base_uri": "https://localhost:8080/"
        },
        "id": "lwIRdIh_sQlR",
        "outputId": "369543a3-cf1d-4d0c-b45b-26ba842a4c65"
      },
      "outputs": [
        {
          "output_type": "stream",
          "name": "stdout",
          "text": [
            "2022-02-11 15:33:22,611 Falling back to TensorFlow client; we recommended you install the Cloud TPU client directly with pip install cloud-tpu-client.\n",
            "2022-02-11 15:33:22,730 Creating converter from 7 to 5\n",
            "2022-02-11 15:33:22,730 Creating converter from 5 to 7\n",
            "2022-02-11 15:33:22,731 Creating converter from 7 to 5\n",
            "2022-02-11 15:33:22,731 Creating converter from 5 to 7\n",
            "2022-02-11 15:33:24,404 Config:\n",
            "2022-02-11 15:33:24,405 {   'add_noise': 0,\n",
            "    'batch_size': 64,\n",
            "    'debug': True,\n",
            "    'device': 'cpu',\n",
            "    'drop_pixels': 0.5,\n",
            "    'mode': ['test', 'train'],\n",
            "    'model': 'resnet20',\n",
            "    'remove_skip_connections': True,\n",
            "    'result_folder': '/content/drive/My Drive/Colab '\n",
            "                     'Notebooks/CS699/loss_landscape/results/resnet20_btch64_skip_bn_bias_remove_skip_connections_drop_.5/',\n",
            "    'save_strategy': ['epoch', 'init'],\n",
            "    'seed': 0,\n",
            "    'shuffle_pixels': 0,\n",
            "    'skip_bn_bias': True,\n",
            "    'statefile': '/content/drive/My Drive/Colab '\n",
            "                 'Notebooks/CS699/loss_landscape/results/resnet20_btch64_skip_bn_bias_remove_skip_connections_drop_.5/ckpt/178_model.pt'}\n",
            "2022-02-11 15:33:24,405 Setting seed to 0\n",
            "Files already downloaded and verified\n",
            "Files already downloaded and verified\n",
            "2022-02-11 15:33:39,312 using resnet20 with 269722 parameters\n",
            "2022-02-11 15:33:39,312 ResNet(\n",
            "  (conv1): Conv2d(3, 16, kernel_size=(3, 3), stride=(1, 1), padding=(1, 1), bias=False)\n",
            "  (bn1): BatchNorm2d(16, eps=1e-05, momentum=0.1, affine=True, track_running_stats=True)\n",
            "  (layer1): Sequential(\n",
            "    (0): BasicBlock(\n",
            "      (conv1): Conv2d(16, 16, kernel_size=(3, 3), stride=(1, 1), padding=(1, 1), bias=False)\n",
            "      (bn1): BatchNorm2d(16, eps=1e-05, momentum=0.1, affine=True, track_running_stats=True)\n",
            "      (conv2): Conv2d(16, 16, kernel_size=(3, 3), stride=(1, 1), padding=(1, 1), bias=False)\n",
            "      (bn2): BatchNorm2d(16, eps=1e-05, momentum=0.1, affine=True, track_running_stats=True)\n",
            "    )\n",
            "    (1): BasicBlock(\n",
            "      (conv1): Conv2d(16, 16, kernel_size=(3, 3), stride=(1, 1), padding=(1, 1), bias=False)\n",
            "      (bn1): BatchNorm2d(16, eps=1e-05, momentum=0.1, affine=True, track_running_stats=True)\n",
            "      (conv2): Conv2d(16, 16, kernel_size=(3, 3), stride=(1, 1), padding=(1, 1), bias=False)\n",
            "      (bn2): BatchNorm2d(16, eps=1e-05, momentum=0.1, affine=True, track_running_stats=True)\n",
            "    )\n",
            "    (2): BasicBlock(\n",
            "      (conv1): Conv2d(16, 16, kernel_size=(3, 3), stride=(1, 1), padding=(1, 1), bias=False)\n",
            "      (bn1): BatchNorm2d(16, eps=1e-05, momentum=0.1, affine=True, track_running_stats=True)\n",
            "      (conv2): Conv2d(16, 16, kernel_size=(3, 3), stride=(1, 1), padding=(1, 1), bias=False)\n",
            "      (bn2): BatchNorm2d(16, eps=1e-05, momentum=0.1, affine=True, track_running_stats=True)\n",
            "    )\n",
            "  )\n",
            "  (layer2): Sequential(\n",
            "    (0): BasicBlock(\n",
            "      (conv1): Conv2d(16, 32, kernel_size=(3, 3), stride=(2, 2), padding=(1, 1), bias=False)\n",
            "      (bn1): BatchNorm2d(32, eps=1e-05, momentum=0.1, affine=True, track_running_stats=True)\n",
            "      (conv2): Conv2d(32, 32, kernel_size=(3, 3), stride=(1, 1), padding=(1, 1), bias=False)\n",
            "      (bn2): BatchNorm2d(32, eps=1e-05, momentum=0.1, affine=True, track_running_stats=True)\n",
            "    )\n",
            "    (1): BasicBlock(\n",
            "      (conv1): Conv2d(32, 32, kernel_size=(3, 3), stride=(1, 1), padding=(1, 1), bias=False)\n",
            "      (bn1): BatchNorm2d(32, eps=1e-05, momentum=0.1, affine=True, track_running_stats=True)\n",
            "      (conv2): Conv2d(32, 32, kernel_size=(3, 3), stride=(1, 1), padding=(1, 1), bias=False)\n",
            "      (bn2): BatchNorm2d(32, eps=1e-05, momentum=0.1, affine=True, track_running_stats=True)\n",
            "    )\n",
            "    (2): BasicBlock(\n",
            "      (conv1): Conv2d(32, 32, kernel_size=(3, 3), stride=(1, 1), padding=(1, 1), bias=False)\n",
            "      (bn1): BatchNorm2d(32, eps=1e-05, momentum=0.1, affine=True, track_running_stats=True)\n",
            "      (conv2): Conv2d(32, 32, kernel_size=(3, 3), stride=(1, 1), padding=(1, 1), bias=False)\n",
            "      (bn2): BatchNorm2d(32, eps=1e-05, momentum=0.1, affine=True, track_running_stats=True)\n",
            "    )\n",
            "  )\n",
            "  (layer3): Sequential(\n",
            "    (0): BasicBlock(\n",
            "      (conv1): Conv2d(32, 64, kernel_size=(3, 3), stride=(2, 2), padding=(1, 1), bias=False)\n",
            "      (bn1): BatchNorm2d(64, eps=1e-05, momentum=0.1, affine=True, track_running_stats=True)\n",
            "      (conv2): Conv2d(64, 64, kernel_size=(3, 3), stride=(1, 1), padding=(1, 1), bias=False)\n",
            "      (bn2): BatchNorm2d(64, eps=1e-05, momentum=0.1, affine=True, track_running_stats=True)\n",
            "    )\n",
            "    (1): BasicBlock(\n",
            "      (conv1): Conv2d(64, 64, kernel_size=(3, 3), stride=(1, 1), padding=(1, 1), bias=False)\n",
            "      (bn1): BatchNorm2d(64, eps=1e-05, momentum=0.1, affine=True, track_running_stats=True)\n",
            "      (conv2): Conv2d(64, 64, kernel_size=(3, 3), stride=(1, 1), padding=(1, 1), bias=False)\n",
            "      (bn2): BatchNorm2d(64, eps=1e-05, momentum=0.1, affine=True, track_running_stats=True)\n",
            "    )\n",
            "    (2): BasicBlock(\n",
            "      (conv1): Conv2d(64, 64, kernel_size=(3, 3), stride=(1, 1), padding=(1, 1), bias=False)\n",
            "      (bn1): BatchNorm2d(64, eps=1e-05, momentum=0.1, affine=True, track_running_stats=True)\n",
            "      (conv2): Conv2d(64, 64, kernel_size=(3, 3), stride=(1, 1), padding=(1, 1), bias=False)\n",
            "      (bn2): BatchNorm2d(64, eps=1e-05, momentum=0.1, affine=True, track_running_stats=True)\n",
            "    )\n",
            "  )\n",
            "  (linear): Linear(in_features=64, out_features=10, bias=True)\n",
            ")\n",
            "2022-02-11 15:33:43,729 Epoch [178/200], Step [139200/156400] Loss: 0.3639\n",
            "2022-02-11 15:34:49,696 Epoch [178/200], Step [139300/156400] Loss: 0.7029\n",
            "2022-02-11 15:35:53,667 Epoch [178/200], Step [139400/156400] Loss: 0.3006\n",
            "2022-02-11 15:36:58,682 Epoch [178/200], Step [139500/156400] Loss: 0.3533\n",
            "2022-02-11 15:38:02,668 Epoch [178/200], Step [139600/156400] Loss: 0.3873\n",
            "2022-02-11 15:39:07,408 Epoch [178/200], Step [139700/156400] Loss: 0.3897\n",
            "2022-02-11 15:40:13,208 Epoch [178/200], Step [139800/156400] Loss: 0.4919\n",
            "2022-02-11 15:41:21,074 Epoch [178/200], Step [139900/156400] Loss: 0.3380\n",
            "2022-02-11 15:42:42,421 Accuracy of the model on the test images: 79.67000007629395%\n",
            "2022-02-11 15:42:57,380 Epoch [179/200], Step [140000/156400] Loss: 0.4682\n",
            "2022-02-11 15:44:06,864 Epoch [179/200], Step [140100/156400] Loss: 0.4100\n",
            "2022-02-11 15:45:13,241 Epoch [179/200], Step [140200/156400] Loss: 0.4488\n",
            "2022-02-11 15:46:17,443 Epoch [179/200], Step [140300/156400] Loss: 0.3568\n",
            "2022-02-11 15:47:22,995 Epoch [179/200], Step [140400/156400] Loss: 0.6319\n",
            "2022-02-11 15:48:28,998 Epoch [179/200], Step [140500/156400] Loss: 0.7764\n",
            "2022-02-11 15:49:37,558 Epoch [179/200], Step [140600/156400] Loss: 0.6196\n",
            "2022-02-11 15:50:45,403 Epoch [179/200], Step [140700/156400] Loss: 0.4716\n",
            "2022-02-11 15:51:54,742 Accuracy of the model on the test images: 80.37999868392944%\n",
            "2022-02-11 15:52:24,517 Epoch [180/200], Step [140800/156400] Loss: 0.6044\n",
            "2022-02-11 15:53:34,724 Epoch [180/200], Step [140900/156400] Loss: 0.4629\n",
            "2022-02-11 15:54:43,722 Epoch [180/200], Step [141000/156400] Loss: 0.4115\n",
            "2022-02-11 15:55:50,155 Epoch [180/200], Step [141100/156400] Loss: 0.6353\n",
            "2022-02-11 15:56:57,372 Epoch [180/200], Step [141200/156400] Loss: 0.4453\n",
            "2022-02-11 15:58:07,085 Epoch [180/200], Step [141300/156400] Loss: 0.4589\n",
            "2022-02-11 15:59:15,156 Epoch [180/200], Step [141400/156400] Loss: 0.4387\n",
            "2022-02-11 16:00:23,560 Epoch [180/200], Step [141500/156400] Loss: 0.4086\n",
            "2022-02-11 16:01:19,661 Accuracy of the model on the test images: 81.36000037193298%\n",
            "2022-02-11 16:02:01,487 Epoch [181/200], Step [141600/156400] Loss: 0.5240\n",
            "2022-02-11 16:03:09,502 Epoch [181/200], Step [141700/156400] Loss: 0.5761\n",
            "2022-02-11 16:04:15,756 Epoch [181/200], Step [141800/156400] Loss: 0.4923\n",
            "2022-02-11 16:05:21,121 Epoch [181/200], Step [141900/156400] Loss: 0.3802\n",
            "2022-02-11 16:06:26,707 Epoch [181/200], Step [142000/156400] Loss: 0.4618\n",
            "2022-02-11 16:07:35,335 Epoch [181/200], Step [142100/156400] Loss: 0.4080\n",
            "2022-02-11 16:08:46,302 Epoch [181/200], Step [142200/156400] Loss: 0.3633\n",
            "2022-02-11 16:09:56,976 Epoch [181/200], Step [142300/156400] Loss: 0.6923\n",
            "2022-02-11 16:10:40,416 Accuracy of the model on the test images: 78.43000292778015%\n",
            "2022-02-11 16:11:33,353 Epoch [182/200], Step [142400/156400] Loss: 0.2975\n",
            "2022-02-11 16:12:40,516 Epoch [182/200], Step [142500/156400] Loss: 0.4557\n",
            "2022-02-11 16:13:46,721 Epoch [182/200], Step [142600/156400] Loss: 0.4134\n",
            "2022-02-11 16:14:55,839 Epoch [182/200], Step [142700/156400] Loss: 0.4005\n",
            "2022-02-11 16:16:05,219 Epoch [182/200], Step [142800/156400] Loss: 0.3883\n",
            "2022-02-11 16:17:13,003 Epoch [182/200], Step [142900/156400] Loss: 0.5013\n",
            "2022-02-11 16:18:22,821 Epoch [182/200], Step [143000/156400] Loss: 0.5099\n",
            "2022-02-11 16:19:30,073 Epoch [182/200], Step [143100/156400] Loss: 0.5547\n",
            "2022-02-11 16:19:59,596 Accuracy of the model on the test images: 81.30000233650208%\n",
            "2022-02-11 16:21:03,071 Epoch [183/200], Step [143200/156400] Loss: 0.4325\n",
            "2022-02-11 16:22:11,312 Epoch [183/200], Step [143300/156400] Loss: 0.3326\n",
            "2022-02-11 16:23:19,326 Epoch [183/200], Step [143400/156400] Loss: 0.5815\n",
            "2022-02-11 16:24:27,678 Epoch [183/200], Step [143500/156400] Loss: 0.4529\n",
            "2022-02-11 16:25:34,718 Epoch [183/200], Step [143600/156400] Loss: 0.5995\n",
            "2022-02-11 16:26:41,524 Epoch [183/200], Step [143700/156400] Loss: 0.7625\n",
            "2022-02-11 16:27:48,012 Epoch [183/200], Step [143800/156400] Loss: 0.4630\n",
            "2022-02-11 16:29:15,114 Accuracy of the model on the test images: 81.30999803543091%\n",
            "2022-02-11 16:29:23,188 Epoch [184/200], Step [143900/156400] Loss: 0.2077\n",
            "2022-02-11 16:30:30,464 Epoch [184/200], Step [144000/156400] Loss: 0.4679\n",
            "2022-02-11 16:31:39,378 Epoch [184/200], Step [144100/156400] Loss: 0.3061\n",
            "2022-02-11 16:32:47,748 Epoch [184/200], Step [144200/156400] Loss: 0.4584\n",
            "2022-02-11 16:33:54,781 Epoch [184/200], Step [144300/156400] Loss: 0.7749\n",
            "2022-02-11 16:35:02,812 Epoch [184/200], Step [144400/156400] Loss: 0.6736\n",
            "2022-02-11 16:36:10,661 Epoch [184/200], Step [144500/156400] Loss: 0.5882\n",
            "2022-02-11 16:37:17,511 Epoch [184/200], Step [144600/156400] Loss: 0.6661\n",
            "2022-02-11 16:38:31,256 Accuracy of the model on the test images: 81.38999938964844%\n",
            "2022-02-11 16:38:51,849 Epoch [185/200], Step [144700/156400] Loss: 0.5511\n",
            "2022-02-11 16:40:00,254 Epoch [185/200], Step [144800/156400] Loss: 0.6669\n",
            "2022-02-11 16:41:10,103 Epoch [185/200], Step [144900/156400] Loss: 0.6369\n",
            "2022-02-11 16:42:21,617 Epoch [185/200], Step [145000/156400] Loss: 0.6014\n",
            "2022-02-11 16:43:32,190 Epoch [185/200], Step [145100/156400] Loss: 0.4799\n",
            "2022-02-11 16:44:42,262 Epoch [185/200], Step [145200/156400] Loss: 0.4445\n",
            "2022-02-11 16:45:52,368 Epoch [185/200], Step [145300/156400] Loss: 0.6122\n",
            "2022-02-11 16:47:00,655 Epoch [185/200], Step [145400/156400] Loss: 0.4493\n",
            "2022-02-11 16:48:00,959 Accuracy of the model on the test images: 79.14000153541565%\n",
            "2022-02-11 16:48:32,489 Epoch [186/200], Step [145500/156400] Loss: 0.5272\n",
            "2022-02-11 16:49:39,816 Epoch [186/200], Step [145600/156400] Loss: 0.3334\n",
            "2022-02-11 16:50:49,155 Epoch [186/200], Step [145700/156400] Loss: 0.4496\n",
            "2022-02-11 16:51:57,292 Epoch [186/200], Step [145800/156400] Loss: 0.5358\n",
            "2022-02-11 16:53:04,166 Epoch [186/200], Step [145900/156400] Loss: 0.6504\n",
            "2022-02-11 16:54:10,403 Epoch [186/200], Step [146000/156400] Loss: 0.5563\n",
            "2022-02-11 16:55:17,614 Epoch [186/200], Step [146100/156400] Loss: 0.6771\n",
            "2022-02-11 16:56:26,661 Epoch [186/200], Step [146200/156400] Loss: 0.3803\n",
            "2022-02-11 16:57:18,871 Accuracy of the model on the test images: 79.76999878883362%\n",
            "2022-02-11 16:58:04,649 Epoch [187/200], Step [146300/156400] Loss: 0.2199\n",
            "2022-02-11 16:59:13,990 Epoch [187/200], Step [146400/156400] Loss: 0.5594\n",
            "2022-02-11 17:00:23,356 Epoch [187/200], Step [146500/156400] Loss: 0.4328\n",
            "2022-02-11 17:01:35,006 Epoch [187/200], Step [146600/156400] Loss: 0.4044\n",
            "2022-02-11 17:02:43,092 Epoch [187/200], Step [146700/156400] Loss: 0.6937\n",
            "2022-02-11 17:03:50,251 Epoch [187/200], Step [146800/156400] Loss: 0.7456\n",
            "2022-02-11 17:04:59,672 Epoch [187/200], Step [146900/156400] Loss: 0.8743\n",
            "2022-02-11 17:06:08,616 Epoch [187/200], Step [147000/156400] Loss: 0.4565\n",
            "2022-02-11 17:06:46,068 Accuracy of the model on the test images: 82.30000138282776%\n",
            "2022-02-11 17:07:45,636 Epoch [188/200], Step [147100/156400] Loss: 0.3621\n",
            "2022-02-11 17:08:56,401 Epoch [188/200], Step [147200/156400] Loss: 0.5922\n",
            "2022-02-11 17:10:04,704 Epoch [188/200], Step [147300/156400] Loss: 0.5828\n",
            "2022-02-11 17:11:12,742 Epoch [188/200], Step [147400/156400] Loss: 0.8498\n",
            "2022-02-11 17:12:25,352 Epoch [188/200], Step [147500/156400] Loss: 0.3752\n",
            "2022-02-11 17:13:36,109 Epoch [188/200], Step [147600/156400] Loss: 0.7794\n",
            "2022-02-11 17:14:46,970 Epoch [188/200], Step [147700/156400] Loss: 0.4001\n",
            "2022-02-11 17:16:24,823 Accuracy of the model on the test images: 78.13000082969666%\n",
            "2022-02-11 17:16:26,268 Epoch [189/200], Step [147800/156400] Loss: 0.5088\n",
            "2022-02-11 17:17:38,252 Epoch [189/200], Step [147900/156400] Loss: 0.3723\n",
            "2022-02-11 17:18:50,952 Epoch [189/200], Step [148000/156400] Loss: 0.2004\n",
            "2022-02-11 17:20:01,647 Epoch [189/200], Step [148100/156400] Loss: 0.4163\n",
            "2022-02-11 17:21:13,164 Epoch [189/200], Step [148200/156400] Loss: 0.5608\n",
            "2022-02-11 17:22:23,736 Epoch [189/200], Step [148300/156400] Loss: 0.4059\n",
            "2022-02-11 17:23:33,030 Epoch [189/200], Step [148400/156400] Loss: 0.5583\n",
            "2022-02-11 17:24:42,385 Epoch [189/200], Step [148500/156400] Loss: 0.5989\n",
            "2022-02-11 17:26:06,621 Accuracy of the model on the test images: 77.34000086784363%\n",
            "2022-02-11 17:26:23,221 Epoch [190/200], Step [148600/156400] Loss: 0.3991\n",
            "2022-02-11 17:27:48,021 Epoch [190/200], Step [148700/156400] Loss: 0.5783\n",
            "2022-02-11 17:29:14,303 Epoch [190/200], Step [148800/156400] Loss: 0.5369\n",
            "2022-02-11 17:30:42,679 Epoch [190/200], Step [148900/156400] Loss: 0.5011\n",
            "2022-02-11 17:32:10,282 Epoch [190/200], Step [149000/156400] Loss: 0.4277\n",
            "2022-02-11 17:33:37,283 Epoch [190/200], Step [149100/156400] Loss: 0.6135\n",
            "2022-02-11 17:35:03,139 Epoch [190/200], Step [149200/156400] Loss: 0.4542\n",
            "2022-02-11 17:36:29,743 Epoch [190/200], Step [149300/156400] Loss: 0.8271\n",
            "2022-02-11 17:37:49,465 Accuracy of the model on the test images: 81.16000294685364%\n",
            "2022-02-11 17:38:22,202 Epoch [191/200], Step [149400/156400] Loss: 0.5260\n",
            "2022-02-11 17:39:49,516 Epoch [191/200], Step [149500/156400] Loss: 0.3701\n",
            "2022-02-11 17:41:17,301 Epoch [191/200], Step [149600/156400] Loss: 0.5766\n",
            "2022-02-11 17:42:42,949 Epoch [191/200], Step [149700/156400] Loss: 0.7036\n",
            "2022-02-11 17:44:09,546 Epoch [191/200], Step [149800/156400] Loss: 0.7453\n",
            "2022-02-11 17:45:40,111 Epoch [191/200], Step [149900/156400] Loss: 0.6257\n",
            "2022-02-11 17:47:09,281 Epoch [191/200], Step [150000/156400] Loss: 0.4212\n",
            "2022-02-11 17:48:38,649 Epoch [191/200], Step [150100/156400] Loss: 0.6229\n",
            "2022-02-11 17:49:45,089 Accuracy of the model on the test images: 79.97000217437744%\n",
            "2022-02-11 17:50:33,792 Epoch [192/200], Step [150200/156400] Loss: 0.5476\n",
            "2022-02-11 17:51:59,226 Epoch [192/200], Step [150300/156400] Loss: 0.5276\n",
            "2022-02-11 17:53:25,340 Epoch [192/200], Step [150400/156400] Loss: 0.4862\n",
            "2022-02-11 17:54:49,004 Epoch [192/200], Step [150500/156400] Loss: 0.3724\n",
            "2022-02-11 17:56:14,257 Epoch [192/200], Step [150600/156400] Loss: 0.6180\n",
            "2022-02-11 17:57:40,444 Epoch [192/200], Step [150700/156400] Loss: 0.5436\n",
            "2022-02-11 17:59:07,089 Epoch [192/200], Step [150800/156400] Loss: 0.4971\n",
            "2022-02-11 18:00:33,730 Epoch [192/200], Step [150900/156400] Loss: 0.5035\n",
            "2022-02-11 18:01:24,461 Accuracy of the model on the test images: 77.00999975204468%\n",
            "2022-02-11 18:02:29,492 Epoch [193/200], Step [151000/156400] Loss: 0.5299\n",
            "2022-02-11 18:03:51,425 Epoch [193/200], Step [151100/156400] Loss: 0.5445\n",
            "2022-02-11 18:05:17,267 Epoch [193/200], Step [151200/156400] Loss: 0.4449\n",
            "2022-02-11 18:06:43,670 Epoch [193/200], Step [151300/156400] Loss: 0.3789\n",
            "2022-02-11 18:08:11,033 Epoch [193/200], Step [151400/156400] Loss: 0.4659\n",
            "2022-02-11 18:09:36,765 Epoch [193/200], Step [151500/156400] Loss: 0.6475\n",
            "2022-02-11 18:11:03,442 Epoch [193/200], Step [151600/156400] Loss: 0.3488\n",
            "2022-02-11 18:12:27,771 Epoch [193/200], Step [151700/156400] Loss: 0.7324\n",
            "2022-02-11 18:13:01,668 Accuracy of the model on the test images: 80.36999702453613%\n",
            "2022-02-11 18:14:20,154 Epoch [194/200], Step [151800/156400] Loss: 0.6371\n",
            "2022-02-11 18:15:45,489 Epoch [194/200], Step [151900/156400] Loss: 0.5350\n",
            "2022-02-11 18:17:11,608 Epoch [194/200], Step [152000/156400] Loss: 0.5534\n",
            "2022-02-11 18:18:36,503 Epoch [194/200], Step [152100/156400] Loss: 0.4866\n",
            "2022-02-11 18:20:02,010 Epoch [194/200], Step [152200/156400] Loss: 0.7728\n",
            "2022-02-11 18:21:25,520 Epoch [194/200], Step [152300/156400] Loss: 0.5572\n",
            "2022-02-11 18:22:50,247 Epoch [194/200], Step [152400/156400] Loss: 0.4405\n",
            "2022-02-11 18:24:31,110 Accuracy of the model on the test images: 79.79999780654907%\n",
            "2022-02-11 18:24:39,207 Epoch [195/200], Step [152500/156400] Loss: 0.2841\n",
            "2022-02-11 18:25:59,448 Epoch [195/200], Step [152600/156400] Loss: 0.5128\n",
            "2022-02-11 18:27:20,836 Epoch [195/200], Step [152700/156400] Loss: 0.4368\n",
            "2022-02-11 18:28:44,407 Epoch [195/200], Step [152800/156400] Loss: 0.4918\n",
            "2022-02-11 18:30:09,103 Epoch [195/200], Step [152900/156400] Loss: 0.5451\n",
            "2022-02-11 18:31:35,968 Epoch [195/200], Step [153000/156400] Loss: 0.5171\n",
            "2022-02-11 18:33:01,744 Epoch [195/200], Step [153100/156400] Loss: 0.3578\n",
            "2022-02-11 18:34:26,645 Epoch [195/200], Step [153200/156400] Loss: 0.3662\n",
            "2022-02-11 18:35:52,848 Accuracy of the model on the test images: 82.4999988079071%\n",
            "2022-02-11 18:36:15,452 Epoch [196/200], Step [153300/156400] Loss: 0.6061\n",
            "2022-02-11 18:37:35,403 Epoch [196/200], Step [153400/156400] Loss: 0.6632\n",
            "2022-02-11 18:38:59,718 Epoch [196/200], Step [153500/156400] Loss: 0.4255\n",
            "2022-02-11 18:40:21,223 Epoch [196/200], Step [153600/156400] Loss: 0.3190\n",
            "2022-02-11 18:41:43,832 Epoch [196/200], Step [153700/156400] Loss: 0.6303\n",
            "2022-02-11 18:43:08,565 Epoch [196/200], Step [153800/156400] Loss: 0.4641\n",
            "2022-02-11 18:44:32,594 Epoch [196/200], Step [153900/156400] Loss: 0.4855\n",
            "2022-02-11 18:45:59,655 Epoch [196/200], Step [154000/156400] Loss: 0.3686\n",
            "2022-02-11 18:47:12,338 Accuracy of the model on the test images: 81.05999827384949%\n",
            "2022-02-11 18:47:50,364 Epoch [197/200], Step [154100/156400] Loss: 0.3674\n",
            "2022-02-11 18:49:13,039 Epoch [197/200], Step [154200/156400] Loss: 0.5474\n",
            "2022-02-11 18:50:39,101 Epoch [197/200], Step [154300/156400] Loss: 0.4230\n",
            "2022-02-11 18:52:07,317 Epoch [197/200], Step [154400/156400] Loss: 0.4433\n",
            "2022-02-11 18:53:32,148 Epoch [197/200], Step [154500/156400] Loss: 0.4719\n",
            "2022-02-11 18:54:58,733 Epoch [197/200], Step [154600/156400] Loss: 0.3559\n",
            "2022-02-11 18:56:22,894 Epoch [197/200], Step [154700/156400] Loss: 0.5312\n",
            "2022-02-11 18:57:46,214 Epoch [197/200], Step [154800/156400] Loss: 0.5139\n",
            "2022-02-11 18:58:42,965 Accuracy of the model on the test images: 78.6899983882904%\n",
            "2022-02-11 18:59:37,414 Epoch [198/200], Step [154900/156400] Loss: 0.4326\n",
            "2022-02-11 19:01:04,405 Epoch [198/200], Step [155000/156400] Loss: 0.4492\n",
            "2022-02-11 19:02:38,827 Epoch [198/200], Step [155100/156400] Loss: 0.6296\n",
            "2022-02-11 19:04:09,893 Epoch [198/200], Step [155200/156400] Loss: 0.9659\n",
            "2022-02-11 19:05:34,455 Epoch [198/200], Step [155300/156400] Loss: 0.6106\n",
            "2022-02-11 19:06:58,209 Epoch [198/200], Step [155400/156400] Loss: 0.3765\n",
            "2022-02-11 19:08:23,288 Epoch [198/200], Step [155500/156400] Loss: 0.5123\n",
            "2022-02-11 19:09:50,176 Epoch [198/200], Step [155600/156400] Loss: 0.6117\n",
            "2022-02-11 19:10:33,005 Accuracy of the model on the test images: 79.53000068664551%\n",
            "2022-02-11 19:11:54,376 Epoch [199/200], Step [155700/156400] Loss: 0.3839\n",
            "2022-02-11 19:13:42,220 Epoch [199/200], Step [155800/156400] Loss: 0.4743\n",
            "2022-02-11 19:15:31,448 Epoch [199/200], Step [155900/156400] Loss: 0.4815\n",
            "2022-02-11 19:17:15,653 Epoch [199/200], Step [156000/156400] Loss: 0.6205\n",
            "2022-02-11 19:19:00,335 Epoch [199/200], Step [156100/156400] Loss: 0.4024\n",
            "2022-02-11 19:20:38,024 Epoch [199/200], Step [156200/156400] Loss: 0.6009\n",
            "2022-02-11 19:22:18,294 Epoch [199/200], Step [156300/156400] Loss: 0.4697\n",
            "2022-02-11 19:24:01,829 Epoch [199/200], Step [156400/156400] Loss: 0.7860\n",
            "2022-02-11 19:24:29,123 Accuracy of the model on the test images: 82.27999806404114%\n",
            "2022-02-11 19:24:29,123 Time to computer frequent directions 2725.246066570282 s\n",
            "2022-02-11 19:24:29,123 fd was updated for 156400 steps\n",
            "2022-02-11 19:24:29,123 fd_last_10 was updated for 7820 steps\n",
            "2022-02-11 19:24:29,123 fd_last_1 was updated for 782 steps\n"
          ]
        }
      ],
      "source": [
        "# !python3 \"/content/drive/My Drive/Colab Notebooks/CS699/loss_landscape/train.py\" \"--result_folder\" \"/content/drive/My Drive/Colab Notebooks/CS699/loss_landscape/results/resnet56_skip_bn_bias_remove_skip_connections/\" \"--model\" resnet20 \"--device\" \"cuda\" \"--skip_bn_bias\" \"-D\" \"--remove_skip_connections\" \"--statefile\" \"/content/drive/My Drive/Colab Notebooks/CS699/loss_landscape/results/resnet56_skip_bn_bias_remove_skip_connections/ckpt/6_model.pt\"\n",
        "\n",
        "# !python3 \"/content/drive/My Drive/Colab Notebooks/CS699/loss_landscape/train.py\" \"--result_folder\" \"/content/drive/My Drive/Colab Notebooks/CS699/loss_landscape/results/resnet20_btch64_skip_bn_bias_remove_skip_connections/\" \"--model\" resnet20 \"--batch_size\" \"64\" \"--skip_bn_bias\" \"-D\" \"--remove_skip_connections\" \"--statefile\" \"/content/drive/My Drive/Colab Notebooks/CS699/loss_landscape/results/resnet20_btch64_skip_bn_bias_remove_skip_connections/ckpt/130_model.pt\" \"--device\" \"cuda\" # \"--add_noise\" \"1\"\n",
        "\n",
        "### NEED TO FINISH 200 EPOCHS\n",
        "# !python3 \"/content/drive/My Drive/Colab Notebooks/CS699/loss_landscape/train.py\" \"--result_folder\" \"/content/drive/My Drive/Colab Notebooks/CS699/loss_landscape/results/resnet20_btch64_skip_bn_bias_remove_skip_connections_drop_.5/\" \"--model\" resnet20 \"--batch_size\" \"64\" \"--skip_bn_bias\" \"-D\" \"--remove_skip_connections\" \"--drop_pixels\" \"0.5\" \"--statefile\" \"/content/drive/My Drive/Colab Notebooks/CS699/loss_landscape/results/resnet20_btch64_skip_bn_bias_remove_skip_connections_drop_.5/ckpt/178_model.pt\" # \"--device\" \"cuda\" # \"--add_noise\" \"1\""
      ]
    },
    {
      "cell_type": "code",
      "execution_count": null,
      "metadata": {
        "colab": {
          "base_uri": "https://localhost:8080/"
        },
        "id": "vDDBzEnqOsqi",
        "outputId": "32fba9bb-d186-42a6-df88-5287760046c7"
      },
      "outputs": [
        {
          "output_type": "stream",
          "name": "stdout",
          "text": [
            "2022-02-11 19:25:19,378 using resnet20 with 269722 parameters\n",
            "2022-02-11 19:25:19,511 Found 201 models\n",
            "2022-02-11 19:31:19,506 Perform PCA on the models\n",
            "2022-02-11 19:31:26,168 angle between pc1 and pc2: 5.637851296924626e-17\n",
            "2022-02-11 19:31:26,169 pca.explained_variance_ratio_: [0.40862927 0.16683941]\n"
          ]
        }
      ],
      "source": [
        "# !python3 \"/content/drive/My Drive/Colab Notebooks/CS699/loss_landscape/create_directions.py\" \"--statefile_folder\" \"/content/drive/My Drive/Colab Notebooks/CS699/loss_landscape/results/resnet20_btch64_skip_bn_bias_remove_skip_connections_drop_.5/ckpt/\" \"-r\" \"/content/drive/My Drive/Colab Notebooks/CS699/loss_landscape/results/resnet20_btch64_skip_bn_bias_remove_skip_connections_drop_.5/\" \"--skip_bn_bias\" \"--direction_file\" \"pca_directions.npz\" \"--direction_style\" \"pca\" \"--model\" \"resnet20\"\n",
        "\n",
        "# resnet56"
      ]
    },
    {
      "cell_type": "code",
      "execution_count": null,
      "metadata": {
        "colab": {
          "base_uri": "https://localhost:8080/"
        },
        "id": "S6bvfZqAYBXJ",
        "outputId": "a7bd1a27-2085-40d1-c847-81387cf3c464"
      },
      "outputs": [
        {
          "output_type": "stream",
          "name": "stdout",
          "text": [
            "2022-02-11 19:31:31,807 using resnet20 with 269722 parameters\n",
            "2022-02-11 19:31:31,813 Found 201 models\n",
            "2022-02-11 19:32:00,907 Dot product is 3.259629011154175e-09\n",
            "2022-02-11 19:32:00,930 The directions are orthogonal\n",
            "2022-02-11 19:32:00,985 Saving results\n",
            "2022-02-11 19:32:01,021 xrange: -0.8358347415924072, 67.64187622070312\n",
            "2022-02-11 19:32:01,021 yrange: -37.972801208496094, 18.448448181152344\n"
          ]
        }
      ],
      "source": [
        "# !python3 compute_trajectory.py \"-r\" \"/content/drive/My Drive/Colab Notebooks/CS699/loss_landscape/results/resnet20_btch64_skip_bn_bias_remove_skip_connections_drop_.5/trajectories\" \"--direction_file\" \"/content/drive/My Drive/Colab Notebooks/CS699/loss_landscape/results/resnet20_btch64_skip_bn_bias_remove_skip_connections_drop_.5/pca_directions.npz\" \"--projection_file\" \"pca_dir_proj.npz\" \"--model\" \"resnet20\"  \"--remove_skip_connections\" \"-s\" \"/content/drive/My Drive/Colab Notebooks/CS699/loss_landscape/results/resnet20_btch64_skip_bn_bias_remove_skip_connections_drop_.5/ckpt\" \"--skip_bn_bias\""
      ]
    },
    {
      "cell_type": "code",
      "execution_count": null,
      "metadata": {
        "colab": {
          "base_uri": "https://localhost:8080/"
        },
        "id": "7d9l-7RSZyob",
        "outputId": "433d95d4-e156-49c4-d7e5-185930c3dd7a"
      },
      "outputs": [
        {
          "output_type": "stream",
          "name": "stdout",
          "text": [
            "Files already downloaded and verified\n",
            "Files already downloaded and verified\n",
            "2022-02-11 19:34:56,396 using resnet20 with 269722 parameters\n",
            "2022-02-11 19:34:56,397 Loading model from /content/drive/My Drive/Colab Notebooks/CS699/loss_landscape/results/resnet20_btch64_skip_bn_bias_remove_skip_connections_drop_.5/ckpt/200_model.pt\n",
            "2022-02-11 19:34:56,838 Loading directions from /content/drive/My Drive/Colab Notebooks/CS699/loss_landscape/results/resnet20_btch64_skip_bn_bias_remove_skip_connections_drop_.5/pca_directions.npz\n",
            "2022-02-11 19:34:56,896 x-range: -3.0:70.0:25\n",
            "2022-02-11 19:34:56,897 y-range: -40.0:20.0:25\n",
            "x: 70.0000, y: 20.0000, loss:17.8288: 100% 625/625 [4:45:38<00:00, 27.42s/it]\n",
            "2022-02-12 00:20:35,070 Saving results\n"
          ]
        }
      ],
      "source": [
        "# !python3 compute_loss_surface.py \"--result_folder\" \"/content/drive/My Drive/Colab Notebooks/CS699/loss_landscape/results/resnet20_btch64_skip_bn_bias_remove_skip_connections_drop_.5/loss_surface/\" \"-s\" \"/content/drive/My Drive/Colab Notebooks/CS699/loss_landscape/results/resnet20_btch64_skip_bn_bias_remove_skip_connections_drop_.5/ckpt/200_model.pt\" \"--batch_size\" 64 \"--skip_bn_bias\" \"--model\" \"resnet20\" \"--remove_skip_connections\" \"--direction_file\" \"/content/drive/My Drive/Colab Notebooks/CS699/loss_landscape/results/resnet20_btch64_skip_bn_bias_remove_skip_connections_drop_.5/pca_directions.npz\" \"--surface_file\" \"pca_dir_loss_surface.npz\" \"--xcoords\" \"25:-3:70\" \"--ycoords\" \"25:-40:20\" # \"--device\" \"cuda:0\" "
      ]
    },
    {
      "cell_type": "code",
      "execution_count": null,
      "metadata": {
        "id": "oM2-TlCVZ1-f"
      },
      "outputs": [],
      "source": [
        "# !python3 plot.py \"--plot_prefix\" \"resnet20_pca_dir\" \"--result_folder\" \"/content/drive/My Drive/Colab Notebooks/CS699/loss_landscape/results/resnet20_btch64_skip_bn_bias_remove_skip_connections_drop_.5/figures/\" \"--trajectory_file\" \"/content/drive/My Drive/Colab Notebooks/CS699/loss_landscape/results/resnet20_btch64_skip_bn_bias_remove_skip_connections_drop_.5/trajectories/pca_dir_proj.npz\" \"--surface_file\" \"/content/drive/My Drive/Colab Notebooks/CS699/loss_landscape/results/resnet20_btch64_skip_bn_bias_remove_skip_connections_drop_.5/loss_surface/pca_dir_loss_surface.npz\" \"--contour_levels\" \"10:0.5:30\""
      ]
    },
    {
      "cell_type": "markdown",
      "source": [
        "### TODO\n",
        "https://pytorch.org/tutorials/recipes/recipes/save_load_across_devices.html"
      ],
      "metadata": {
        "id": "9ldwNtVMYgHw"
      }
    }
  ],
  "metadata": {
    "colab": {
      "collapsed_sections": [],
      "name": "HW1-LossLandscape.ipynb",
      "provenance": []
    },
    "kernelspec": {
      "display_name": "Python 3",
      "name": "python3"
    },
    "language_info": {
      "name": "python"
    }
  },
  "nbformat": 4,
  "nbformat_minor": 0
}