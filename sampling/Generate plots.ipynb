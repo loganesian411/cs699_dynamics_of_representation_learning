{
 "cells": [
  {
   "cell_type": "code",
   "execution_count": 1,
   "metadata": {},
   "outputs": [],
   "source": [
    "from collections import defaultdict\n",
    "import matplotlib.pyplot as plt\n",
    "import numpy as np\n",
    "import os"
   ]
  },
  {
   "cell_type": "markdown",
   "metadata": {},
   "source": [
    "### Plot KL divergence"
   ]
  },
  {
   "cell_type": "code",
   "execution_count": 114,
   "metadata": {},
   "outputs": [
    {
     "data": {
      "image/png": "[encoded data removed]",
      "text/plain": [
       "<Figure size 432x288 with 1 Axes>"
      ]
     },
     "metadata": {
      "needs_background": "light"
     },
     "output_type": "display_data"
    }
   ],
   "source": [
    "# data = np.load('./results/lsd_wrapper_grathwohlsample/moons/LSD_ckpt_3999.npz', allow_pickle=True)\n",
    "\n",
    "foldername = './results/final_results_for_writeup/hmc_check_eps.3_15iter_K100_gaus'\n",
    "data = np.load(f\"{foldername}/final_res.npy.npz\",\n",
    "                   allow_pickle=True)\n",
    "list(data)\n",
    "metrics = data['metrics']\n",
    "metrics = metrics[np.newaxis][0]\n",
    "\n",
    "freq = 100\n",
    "niter = np.shape(metrics['kldiv'])[0]\n",
    "\n",
    "x = np.arange(0, freq*niter, freq)\n",
    "fig = plt.figure()\n",
    "plt.plot(x, metrics['kldiv'], label='kl divergence')\n",
    "plt.plot(x, metrics['tv'], label='total variance')\n",
    "plt.xlabel(\"Iteration\")\n",
    "# plt.ylabel(\"KL divergence\")\n",
    "plt.ylabel(\"Metric\")\n",
    "# plt.title(\"KL divergence over time\")\n",
    "plt.title(\"Metric over time\")\n",
    "plt.legend()\n",
    "\n",
    "fig.savefig(f\"{foldername}/metrics_over_time.png\")\n",
    "\n",
    "plt.show()"
   ]
  },
  {
   "cell_type": "markdown",
   "metadata": {},
   "source": [
    "### Generate gif"
   ]
  },
  {
   "cell_type": "code",
   "execution_count": 77,
   "metadata": {},
   "outputs": [],
   "source": [
    "# HMC sampling outputs, to make sure they are sorted correctly.\n",
    "def key_func(x):\n",
    "  val = os.path.basename(x).split('_')[-1].split('.')[0]\n",
    "  # Really large number so it for sure is the last one.\n",
    "  if val == 'final': return 1000000\n",
    "  # Ditto but small.\n",
    "  if val == 'initial': return -1\n",
    "  return int(val)"
   ]
  },
  {
   "cell_type": "code",
   "execution_count": 70,
   "metadata": {},
   "outputs": [],
   "source": [
    "#https://www.blog.pythonlibrary.org/2021/06/23/creating-an-animated-gif-with-python/\n",
    "import glob\n",
    "from PIL import Image\n",
    "def make_gif(frame_folder, key_func=None, debug_mode=False):\n",
    "    if debug_mode:\n",
    "      for e in sorted(glob.glob(f\"{frame_folder}/*.png\"), key=key_func):\n",
    "        print(e)\n",
    "    frames = [Image.open(image) for image in sorted(glob.glob(f\"{frame_folder}/*.png\"), key=key_func)]\n",
    "    frame_one = frames[0]\n",
    "    frame_one.save(f\"{frame_folder}/animation.gif\", format=\"GIF\", append_images=frames,\n",
    "               save_all=True, duration=500, loop=0)"
   ]
  },
  {
   "cell_type": "code",
   "execution_count": 115,
   "metadata": {},
   "outputs": [],
   "source": [
    "# make_gif(\"./results/lsd_wrapper_grathwohlsample/checkerboard/figs/\")\n",
    "make_gif(f\"{foldername}/snapshot_ims/\", key_func)"
   ]
  }
 ],
 "metadata": {
  "kernelspec": {
   "display_name": "cs699",
   "language": "python",
   "name": "venv"
  },
  "language_info": {
   "codemirror_mode": {
    "name": "ipython",
    "version": 3
   },
   "file_extension": ".py",
   "mimetype": "text/x-python",
   "name": "python",
   "nbconvert_exporter": "python",
   "pygments_lexer": "ipython3",
   "version": "3.9.2"
  }
 },
 "nbformat": 4,
 "nbformat_minor": 5
}
